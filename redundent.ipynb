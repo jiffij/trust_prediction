{
 "cells": [
  {
   "cell_type": "code",
   "execution_count": null,
   "metadata": {
    "collapsed": true
   },
   "outputs": [],
   "source": [
    "class TESTMLP(torch.nn.Module):\n",
    "    def __init__(self, input_size, hidden_size, output_size):\n",
    "        super().__init__()\n",
    "        # self.fc1 = torch.nn.Linear(input_size, 255)\n",
    "        # self.relu1 = torch.nn.ReLU()\n",
    "        # self.fc2 = torch.nn.Linear(255, 200)\n",
    "        # self.relu2 = torch.nn.ReLU()\n",
    "        # self.fc3 = torch.nn.Linear(200, 128)\n",
    "        # self.relu3 = torch.nn.ReLU()\n",
    "        # self.fc4 = torch.nn.Linear(128, 64)\n",
    "        # self.relu4 = torch.nn.ReLU()\n",
    "        # self.fc5 = torch.nn.Linear(64, 32)\n",
    "        # self.relu5 = torch.nn.ReLU()\n",
    "        # self.fc6 = torch.nn.Linear(32, output_size)\n",
    "        self.fc1 = torch.nn.Linear(input_size, 32)\n",
    "        self.relu1 = torch.nn.ReLU()\n",
    "        self.fc2 = torch.nn.Linear(32, 64)\n",
    "        self.relu2 = torch.nn.ReLU()\n",
    "        self.fc3 = torch.nn.Linear(64, 128)\n",
    "        self.relu3 = torch.nn.ReLU()\n",
    "        self.fc4 = torch.nn.Linear(128, 200)\n",
    "        self.relu4 = torch.nn.ReLU()\n",
    "        self.fc5 = torch.nn.Linear(200, 255)\n",
    "        self.relu5 = torch.nn.ReLU()\n",
    "        self.fc6 = torch.nn.Linear(255, output_size)\n",
    "\n",
    "    def forward(self, x):\n",
    "        x = self.fc1(x)\n",
    "        x = self.relu1(x)\n",
    "        x = self.fc2(x)\n",
    "        x = self.relu2(x)\n",
    "        x = self.fc3(x)\n",
    "        x = self.relu3(x)\n",
    "        x = self.fc4(x)\n",
    "        x = self.relu4(x)\n",
    "        x = self.fc5(x)\n",
    "        x = self.relu5(x)\n",
    "        x = self.fc6(x)\n",
    "\n",
    "        return x\n",
    "\n",
    "\n",
    "def train(model, train_loader, optimizer, criterion):\n",
    "    model.train()\n",
    "    losses = 0\n",
    "    for batch in train_loader:\n",
    "        data, target = batch[0].to(device), batch[1].to(device)\n",
    "        optimizer.zero_grad()\n",
    "        output = model(data)\n",
    "        loss = criterion(output, target)\n",
    "        loss.backward()\n",
    "        optimizer.step()\n",
    "        losses += loss\n",
    "    print(loss)\n",
    "\n",
    "\n",
    "def test(model, test_loader):\n",
    "    model.eval()\n",
    "    correct = 0\n",
    "    total = 0\n",
    "    outputs = []\n",
    "    with torch.no_grad():\n",
    "        for batch in test_loader:\n",
    "            data, target = batch[0].to(device), batch[1].to(device)\n",
    "            output = model(data)\n",
    "            # _, predicted = torch.max(output.data, 1)\n",
    "            outputs += output.tolist()\n",
    "    return outputs\n",
    "\n",
    "\n",
    "test_mlp = TESTMLP(window - 1, 255, 1)\n",
    "for i in range(100):\n",
    "    train(test_mlp, training_loader, torch.optim.Adam(test_mlp.parameters(), lr=0.001, weight_decay=0.001),\n",
    "          torch.nn.MSELoss())\n",
    "# res = test(test_mlp, testing_loader)"
   ]
  },
  {
   "cell_type": "code",
   "execution_count": null,
   "outputs": [],
   "source": [
    "# mlp = MLP(window-1, 1, semlp.GA.winner())\n",
    "mlp = semlp.train_one_model(window-1, 1, semlp.GA.chromosomes[5])\n",
    "outputs = []\n",
    "criterion = torch.nn.MSELoss()\n",
    "rmse = 0\n",
    "# optimizer = torch.optim.Adam(mlp.parameters(), lr=0.001, weight_decay=0.001)\n",
    "#\n",
    "# test_rmse = 0\n",
    "# for epoch in range(300):\n",
    "#     self.train_one_epoch(mlp, epoch, criterion, optimizer)\n",
    "#     test_rmse = self.validate_one_epoch(mlp, criterion)\n",
    "#     print(f\"Test RMSE: {test_rmse}\")\n",
    "#     print(\"*\"*20+\"\\n\")\n",
    "\n",
    "for batch_index, batch in enumerate(testing_loader):\n",
    "    x_batch, y_batch = batch[0].to(device), batch[1].to(device)\n",
    "    with torch.no_grad():\n",
    "        output = mlp(x_batch)\n",
    "        loss = criterion(output, y_batch)\n",
    "        rmse += loss.item()\n",
    "        outputs += output.tolist()\n",
    "rmse = np.sqrt(rmse)"
   ],
   "metadata": {
    "collapsed": false
   }
  },
  {
   "cell_type": "code",
   "execution_count": null,
   "outputs": [],
   "source": [
    "train_res = test(test_mlp, training_loader)"
   ],
   "metadata": {
    "collapsed": false
   }
  },
  {
   "cell_type": "code",
   "execution_count": null,
   "outputs": [],
   "source": [
    "with torch.no_grad():\n",
    "    predicted = mlp(X_train.to(device)).to('cpu').numpy()\n",
    "\n",
    "plt.plot(y_train.to('cpu').numpy(), label='Actual Close')\n",
    "plt.plot(predicted, label='Predicted Close')\n",
    "plt.xlabel('Day')\n",
    "plt.ylabel('Close')\n",
    "plt.legend()\n",
    "plt.show()"
   ],
   "metadata": {
    "collapsed": false
   }
  },
  {
   "cell_type": "code",
   "execution_count": null,
   "outputs": [],
   "source": [
    "with torch.no_grad():\n",
    "    predicted = test_mlp(X_test.to(device)).to('cpu').numpy()\n",
    "\n",
    "plt.plot(y_test.to('cpu').numpy(), label='Actual Close')\n",
    "plt.plot(predicted, label='Predicted Close')\n",
    "plt.xlabel('Day')\n",
    "plt.ylabel('Close')\n",
    "plt.legend()\n",
    "plt.show()"
   ],
   "metadata": {
    "collapsed": false
   }
  }
 ],
 "metadata": {
  "kernelspec": {
   "display_name": "Python 3",
   "language": "python",
   "name": "python3"
  },
  "language_info": {
   "codemirror_mode": {
    "name": "ipython",
    "version": 2
   },
   "file_extension": ".py",
   "mimetype": "text/x-python",
   "name": "python",
   "nbconvert_exporter": "python",
   "pygments_lexer": "ipython2",
   "version": "2.7.6"
  }
 },
 "nbformat": 4,
 "nbformat_minor": 0
}
